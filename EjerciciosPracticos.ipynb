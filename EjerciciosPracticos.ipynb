{
 "cells": [
  {
   "cell_type": "markdown",
   "id": "4928c244-d8e2-4b63-b605-8d32bebe4451",
   "metadata": {},
   "source": [
    "# Ejemplo de ejercicios practicos en paiton\n",
    "\n",
    "En esta sección vamos a reforzar los conceptos de estructuras de control y ciclos a través de ejercicios"
   ]
  },
  {
   "cell_type": "markdown",
   "id": "97bdc24a-a1bd-4707-827a-d4d46b5e6b47",
   "metadata": {},
   "source": [
    "# 1. Ejemplo de cómo ingresar datos atravez del teclado y hacer operaciones matemáticas\n",
    "   "
   ]
  },
  {
   "cell_type": "code",
   "execution_count": 3,
   "id": "ddd9f884-aa60-41fa-a01f-8833c035ee7d",
   "metadata": {},
   "outputs": [
    {
     "name": "stdin",
     "output_type": "stream",
     "text": [
      "Ingresa el primer número:  666\n",
      "Ingresa el segundo número:  666\n"
     ]
    },
    {
     "name": "stdout",
     "output_type": "stream",
     "text": [
      "La suma de 666.0 y 666.0 es 1332.0\n"
     ]
    }
   ],
   "source": [
    "num1 = float(input(\"Ingresa el primer número: \"))\n",
    "num2 = float(input(\"Ingresa el segundo número: \"))\n",
    "suma = num1 + num2\n",
    "print(f\"La suma de {num1} y {num2} es {suma}\")"
   ]
  },
  {
   "cell_type": "code",
   "execution_count": 5,
   "id": "c99cff0d-1704-45b1-8341-f0490d1e2e8b",
   "metadata": {},
   "outputs": [
    {
     "name": "stdin",
     "output_type": "stream",
     "text": [
      "Ingresa el primer número:  1\n",
      "Ingresa el segundo número:  1\n"
     ]
    },
    {
     "name": "stdout",
     "output_type": "stream",
     "text": [
      "La suma de 1 y 1 es 2\n",
      "La resta de 1 y 1 es 0\n"
     ]
    }
   ],
   "source": [
    "num1 = int(input(\"Ingresa el primer número: \"))\n",
    "num2 = int(input(\"Ingresa el segundo número: \"))\n",
    "suma = num1 + num2\n",
    "resta = num1 - num2\n",
    "print(f\"La suma de {num1} y {num2} es {suma}\")\n",
    "print(f\"La resta de {num1} y {num2} es {resta}\")"
   ]
  },
  {
   "cell_type": "code",
   "execution_count": 6,
   "id": "7cdd6886-1c29-44f8-9a4f-76bce92448a4",
   "metadata": {},
   "outputs": [
    {
     "name": "stdin",
     "output_type": "stream",
     "text": [
      "Ingresa un número:  1\n"
     ]
    },
    {
     "name": "stdout",
     "output_type": "stream",
     "text": [
      "1 es un número impar.\n"
     ]
    }
   ],
   "source": [
    "numero  = int(input(\"Ingresa un número: \"))\n",
    "\n",
    "if numero % 2 == 0:\n",
    "    print(f\"{numero} es un número par.\")\n",
    "else:\n",
    "    print(f\"{numero} es un número impar.\")\n",
    "\n"
   ]
  },
  {
   "cell_type": "code",
   "execution_count": 7,
   "id": "3d998c61-e7df-4eb5-bb12-f1a1ca5707c9",
   "metadata": {},
   "outputs": [
    {
     "name": "stdout",
     "output_type": "stream",
     "text": [
      "imprimir cada valor de i: 1\n",
      "imprimir cada valor de i: 2\n",
      "imprimir cada valor de i: 3\n",
      "imprimir cada valor de i: 4\n",
      "imprimir cada valor de i: 5\n",
      "imprimir cada valor de i: 6\n",
      "imprimir cada valor de i: 7\n",
      "imprimir cada valor de i: 8\n",
      "imprimir cada valor de i: 9\n",
      "imprimir cada valor de i: 10\n"
     ]
    }
   ],
   "source": [
    "for i in range(1,11):\n",
    "    print(f\"imprimir cada valor de i: {i}\")\n",
    "\n"
   ]
  },
  {
   "cell_type": "code",
   "execution_count": 9,
   "id": "00f2cb5a-a944-412a-8c19-7d0023c8cbf9",
   "metadata": {},
   "outputs": [
    {
     "name": "stdout",
     "output_type": "stream",
     "text": [
      "30\n",
      "29\n",
      "28\n",
      "27\n",
      "26\n",
      "25\n"
     ]
    }
   ],
   "source": [
    "contador=30\n",
    "while contador >= 25:\n",
    "    print(contador)\n",
    "    contador -= 1"
   ]
  },
  {
   "cell_type": "code",
   "execution_count": 10,
   "id": "9cedbdee-a45c-404a-9148-adec36ffd89a",
   "metadata": {},
   "outputs": [
    {
     "name": "stdin",
     "output_type": "stream",
     "text": [
      "Ingresa el primer número:  1\n",
      "Ingresa el segundo número:  2\n",
      "Ingresa el tercer número:  3\n"
     ]
    },
    {
     "name": "stdout",
     "output_type": "stream",
     "text": [
      "El número mayor es: 3.0\n"
     ]
    }
   ],
   "source": [
    "a = float(input(\"Ingresa el primer número: \"))\n",
    "b = float(input(\"Ingresa el segundo número: \"))\n",
    "c = float(input(\"Ingresa el tercer número: \"))\n",
    "\n",
    "if a > b and a > c:\n",
    "    mayor = a\n",
    "elif b > a and b > c:\n",
    "    mayor = b\n",
    "else:\n",
    "    mayor = c\n",
    "\n",
    "print(f\"El número mayor es: {mayor}\")"
   ]
  },
  {
   "cell_type": "code",
   "execution_count": 25,
   "id": "c71212a2-97d5-4dc7-acfa-f6610afa3eb5",
   "metadata": {},
   "outputs": [
    {
     "name": "stdin",
     "output_type": "stream",
     "text": [
      "Ingresa la tabla que desea :  10\n",
      "Ingresa el limite que desea :  20\n"
     ]
    },
    {
     "name": "stdout",
     "output_type": "stream",
     "text": [
      "10x1= 10\n",
      "10x2= 20\n",
      "10x3= 30\n",
      "10x4= 40\n",
      "10x5= 50\n",
      "10x6= 60\n",
      "10x7= 70\n",
      "10x8= 80\n",
      "10x9= 90\n",
      "10x10= 100\n",
      "10x11= 110\n",
      "10x12= 120\n",
      "10x13= 130\n",
      "10x14= 140\n",
      "10x15= 150\n",
      "10x16= 160\n",
      "10x17= 170\n",
      "10x18= 180\n",
      "10x19= 190\n",
      "10x20= 200\n"
     ]
    }
   ],
   "source": [
    "tabla = int(input(\"Ingresa la tabla que desea : \"))\n",
    "limite  = int(input(\"Ingresa el limite que desea : \"))\n",
    "\n",
    "for i in range(1,limite+1):\n",
    "    print(f\"{tabla}x{i}=\",i*tabla)\n"
   ]
  },
  {
   "cell_type": "code",
   "execution_count": null,
   "id": "4eb95a23-b958-47ed-9ccd-39fb5be70273",
   "metadata": {},
   "outputs": [],
   "source": []
  }
 ],
 "metadata": {
  "kernelspec": {
   "display_name": "Python 3 (ipykernel)",
   "language": "python",
   "name": "python3"
  },
  "language_info": {
   "codemirror_mode": {
    "name": "ipython",
    "version": 3
   },
   "file_extension": ".py",
   "mimetype": "text/x-python",
   "name": "python",
   "nbconvert_exporter": "python",
   "pygments_lexer": "ipython3",
   "version": "3.12.4"
  }
 },
 "nbformat": 4,
 "nbformat_minor": 5
}
