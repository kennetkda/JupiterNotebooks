{
 "cells": [
  {
   "cell_type": "markdown",
   "id": "22dba855-28ca-4181-9455-d6a841c1d6e6",
   "metadata": {},
   "source": [
    "# Tarea No. 1 "
   ]
  },
  {
   "cell_type": "markdown",
   "id": "6588c4bb-793a-40dc-a242-a121afd8545c",
   "metadata": {},
   "source": [
    "# Carlos Javier Díaz Amenábar - 1661810720101"
   ]
  },
  {
   "cell_type": "raw",
   "id": "b55b383f-c0e1-4a3f-a356-ba148324cca8",
   "metadata": {},
   "source": [
    "# Ejercicio 1\n",
    "\n",
    "1. Al usuario se le piden tres números y el programa determina cuál es el mayor"
   ]
  },
  {
   "cell_type": "code",
   "execution_count": null,
   "id": "595c98f9-cad9-4425-95a1-aea18c39de26",
   "metadata": {},
   "outputs": [],
   "source": []
  },
  {
   "cell_type": "code",
   "execution_count": null,
   "id": "52b0e903-c8b8-49d7-9377-c4093c592f54",
   "metadata": {},
   "outputs": [],
   "source": []
  },
  {
   "cell_type": "code",
   "execution_count": 4,
   "id": "624a48de-3a1e-4f91-8c95-175085bf527f",
   "metadata": {},
   "outputs": [
    {
     "name": "stdin",
     "output_type": "stream",
     "text": [
      "Ingresa el primer número:  1\n",
      "Ingresa el segundo número:  2\n",
      "Ingresa el tercer número:  3\n"
     ]
    },
    {
     "name": "stdout",
     "output_type": "stream",
     "text": [
      "El número mayor es: 3.0\n"
     ]
    }
   ],
   "source": [
    "a = float(input(\"Ingresa el primer número: \"))\n",
    "b = float(input(\"Ingresa el segundo número: \"))\n",
    "c = float(input(\"Ingresa el tercer número: \"))\n",
    "\n",
    "if a > b and a > c:\n",
    "    mayor = a\n",
    "elif b > a and b > c:\n",
    "    mayor = b\n",
    "else:\n",
    "    mayor = c\n",
    "\n",
    "print(f\"El número mayor es: {mayor}\")"
   ]
  },
  {
   "cell_type": "raw",
   "id": "79569ce1-33f8-4069-bcca-b6f32c4fb0c3",
   "metadata": {},
   "source": [
    "2. Al usuario se le pide que ingrese un número y al darle enter, el programa muestra su tabla de multiplicar del 1 al 25.\n",
    "\n"
   ]
  },
  {
   "cell_type": "code",
   "execution_count": 5,
   "id": "ec9cac98-c685-4e52-b858-9df58e353937",
   "metadata": {},
   "outputs": [
    {
     "name": "stdin",
     "output_type": "stream",
     "text": [
      "Ingresa la tabla que desea :  25\n"
     ]
    },
    {
     "name": "stdout",
     "output_type": "stream",
     "text": [
      "25x1= 25\n",
      "25x2= 50\n",
      "25x3= 75\n",
      "25x4= 100\n",
      "25x5= 125\n",
      "25x6= 150\n",
      "25x7= 175\n",
      "25x8= 200\n",
      "25x9= 225\n",
      "25x10= 250\n",
      "25x11= 275\n",
      "25x12= 300\n",
      "25x13= 325\n",
      "25x14= 350\n",
      "25x15= 375\n",
      "25x16= 400\n",
      "25x17= 425\n",
      "25x18= 450\n",
      "25x19= 475\n",
      "25x20= 500\n",
      "25x21= 525\n",
      "25x22= 550\n",
      "25x23= 575\n",
      "25x24= 600\n",
      "25x25= 625\n"
     ]
    }
   ],
   "source": [
    "tabla = int(input(\"Ingresa la tabla que desea : \"))\n",
    "limite  = 25\n",
    "\n",
    "for i in range(1,limite+1):\n",
    "    print(f\"{tabla}x{i}=\",i*tabla)"
   ]
  },
  {
   "cell_type": "code",
   "execution_count": null,
   "id": "7ff4d7af-63f2-4d6f-8f59-c38f0a37ef68",
   "metadata": {},
   "outputs": [],
   "source": []
  }
 ],
 "metadata": {
  "kernelspec": {
   "display_name": "Python 3 (ipykernel)",
   "language": "python",
   "name": "python3"
  },
  "language_info": {
   "codemirror_mode": {
    "name": "ipython",
    "version": 3
   },
   "file_extension": ".py",
   "mimetype": "text/x-python",
   "name": "python",
   "nbconvert_exporter": "python",
   "pygments_lexer": "ipython3",
   "version": "3.12.4"
  }
 },
 "nbformat": 4,
 "nbformat_minor": 5
}
