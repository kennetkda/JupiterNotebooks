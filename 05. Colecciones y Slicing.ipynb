{
 "cells": [
  {
   "cell_type": "markdown",
   "metadata": {},
   "source": [
    "# Listas, Colecciones y Slicing\n",
    "  \n",
    "  \n",
    "En este notebook se va a mostrar el uso de listas y otros elementos que son muy útiles al momento de analizar datos.\n"
   ]
  },
  {
   "cell_type": "markdown",
   "metadata": {},
   "source": [
    "# Colecciones y objetos contenedores\n",
    "\n",
    "Una de las mayores ventajas de la computacion o programacion cientifica y numerica es poder trabajar sobre grandes volumenes de informacion, y poder realizar operaciones sobre multiples elementos u objetos de manera rapida y eficiente.\n",
    "\n",
    "Para esto haremos uso(inicialmente) de objetos conocidos en en Python(y en muchos otros lenguajes) bajo algunos nombres comunes:\n",
    "\n",
    "* Colecciones\n",
    "* Estructuras de datos\n",
    "* Objetos contendedores\n",
    "\n",
    "\n",
    "## Objeto Contenedor\n",
    "\n",
    "Objeto contenedor es cualquier objeto que almacena  un numero arbitrario de otros objetos(contiene objetos) , generalmente los objetos contenedores proveen formas de **accesar** los objetos contenidos e **iterar** sobre ellos.\n",
    "\n",
    "## Objeto contenedor y ciclo \"for\"\n",
    "\n",
    "Cuando estudiamos el ciclo \"for\" mencionamos que en Python este tenia una relacion muy grande con colecciones de objetos, en Python el ciclo \"for\" nos permite iterar(recorrer) sobre un objeto contenedor para accesar a sus elmementos de uno en uno y asi poder trabajar u operar sobre ellos.\n",
    "\n",
    "## Listas (list)\n",
    "\n",
    "<img src=\"https://files.realpython.com/media/t.eb0b38e642c5.png\">\n",
    "\n",
    "Una lista es una **secuencia ordenada** de objetos , los cuales estan separados por comas y encerrados en corchetes, es decir que la lista tendra la forma:\n",
    "\n",
    "[objeto1, objeto2, objeto3, objeto4,...,objetoN]\n",
    "\n",
    "\n",
    "La lista al ser un objeto, puede ser asignado a una variable(o identificador) tal como lo hemos hecho con los tipos basicos de la siguiente forma:\n",
    "\n",
    "< variable > = [< lista >]\n",
    "\n",
    "Por ejemplo:\n",
    "\n",
    "paises = [\"GT\",\"SV\",\"HN\",\"NI\",\"CR\"]\n",
    "\n",
    "A diferencia de otros lenguajes de programacion(y los arrays de estos) en Python las listas no  requieren que todos los objetos contenidos sean del mismo tipo y puede almacenar cualquier combinacion de tipos de objetos(incluidas otras listas)."
   ]
  },
  {
   "cell_type": "code",
   "execution_count": 266,
   "metadata": {},
   "outputs": [
    {
     "data": {
      "text/plain": [
       "[1, 4.0, 'a']"
      ]
     },
     "execution_count": 266,
     "metadata": {},
     "output_type": "execute_result"
    }
   ],
   "source": [
    "[1,4.0,'a']"
   ]
  },
  {
   "cell_type": "code",
   "execution_count": 268,
   "metadata": {},
   "outputs": [
    {
     "name": "stdout",
     "output_type": "stream",
     "text": [
      "[1, 4.0, 'a']\n"
     ]
    }
   ],
   "source": [
    "print([1,4.0,'a'])"
   ]
  },
  {
   "cell_type": "code",
   "execution_count": 128,
   "metadata": {},
   "outputs": [
    {
     "name": "stdout",
     "output_type": "stream",
     "text": [
      "[1, 4.0, 'a']\n",
      "[3.14, 2.71, 42, [1, 4.0, 'a']]\n"
     ]
    }
   ],
   "source": [
    "u = [1,4.0,'a']\n",
    "v = [3.14,2.71,42,u] #podemos ver que la lista u es tambien un objeto contenido en la lista v\n",
    "\n",
    "print(u)\n",
    "print(v)"
   ]
  },
  {
   "cell_type": "markdown",
   "metadata": {},
   "source": [
    "Podemos verificar si 2 listas son iguales(almacenan los mismos objetos) usando =="
   ]
  },
  {
   "cell_type": "code",
   "execution_count": 130,
   "metadata": {},
   "outputs": [
    {
     "data": {
      "text/plain": [
       "True"
      ]
     },
     "execution_count": 130,
     "metadata": {},
     "output_type": "execute_result"
    }
   ],
   "source": [
    "a = [1,2,3]\n",
    "b = [1,2,3]\n",
    "\n",
    "a==b"
   ]
  },
  {
   "cell_type": "code",
   "execution_count": 131,
   "metadata": {},
   "outputs": [
    {
     "data": {
      "text/plain": [
       "False"
      ]
     },
     "execution_count": 131,
     "metadata": {},
     "output_type": "execute_result"
    }
   ],
   "source": [
    "#una lista es \"ordenada\" por lo cual aunque guardan los mismos valores, por estar en diferente orden ,no son iguales\n",
    "\n",
    "a = [2,1,3] \n",
    "b = [1,2,3]\n",
    "\n",
    "a==b"
   ]
  },
  {
   "cell_type": "markdown",
   "metadata": {},
   "source": [
    "Aun que no hemos visto a detalle funciones, veamos de momento que hace la funcion len() sobre una lista"
   ]
  },
  {
   "cell_type": "code",
   "execution_count": 1,
   "metadata": {},
   "outputs": [
    {
     "name": "stdout",
     "output_type": "stream",
     "text": [
      "3\n",
      "4\n"
     ]
    }
   ],
   "source": [
    "u = [1,4.0,'a']\n",
    "v = [3.14,2.71,42,u]\n",
    "\n",
    "print(len(u))\n",
    "print(len(v))"
   ]
  },
  {
   "cell_type": "markdown",
   "metadata": {},
   "source": [
    "####  Replicar el contenido de una lista\n",
    "\n",
    "Python nos provee una forma rapida y sencilla de replicar el contenido de una lista a traes del operador ***** , veamos los siguientes ejemplos que **duplican** o **triplican** el contenido de la lista u"
   ]
  },
  {
   "cell_type": "code",
   "execution_count": 135,
   "metadata": {},
   "outputs": [
    {
     "name": "stdout",
     "output_type": "stream",
     "text": [
      "[1, 4.0, 'a', 1, 4.0, 'a']\n"
     ]
    }
   ],
   "source": [
    "listaDuplicada = u*2\n",
    "\n",
    "print(listaDuplicada)"
   ]
  },
  {
   "cell_type": "code",
   "execution_count": 136,
   "metadata": {},
   "outputs": [
    {
     "data": {
      "text/plain": [
       "[1, 4.0, 'a', 1, 4.0, 'a', 1, 4.0, 'a', 1, 4.0, 'a', 1, 4.0, 'a']"
      ]
     },
     "execution_count": 136,
     "metadata": {},
     "output_type": "execute_result"
    }
   ],
   "source": [
    "u*5"
   ]
  },
  {
   "cell_type": "markdown",
   "metadata": {},
   "source": [
    "#### Concatenar multiples listas\n",
    "\n",
    "En muchos casos, podemos tener 2 o mas listas las cuales nos interesa unificar en una sola lista , esto lo logramos a traves de una \"concatenacion de listas\" que podemos lograr usando el operador **+** ,por ejemplo:"
   ]
  },
  {
   "cell_type": "code",
   "execution_count": 138,
   "metadata": {},
   "outputs": [
    {
     "name": "stdout",
     "output_type": "stream",
     "text": [
      "[1, 4.0, 'a', 3.14, 2.71, 42, [1, 4.0, 'a']]\n"
     ]
    }
   ],
   "source": [
    "w = u + v\n",
    "\n",
    "print(w)"
   ]
  },
  {
   "cell_type": "markdown",
   "metadata": {},
   "source": [
    "#### Agregar nuevos elementos al final de una lista\n",
    "\n",
    "Si necesitamos agregar nuevos elementos a una lista , podemos usar la funcion append(< nuevo elemento> ) aplicada sobre la lista, esto  agrega el nuevo contenido al final de la lista."
   ]
  },
  {
   "cell_type": "code",
   "execution_count": 140,
   "metadata": {},
   "outputs": [
    {
     "name": "stdout",
     "output_type": "stream",
     "text": [
      "[1, 2, 3, 4, 5, 6, 'test']\n"
     ]
    }
   ],
   "source": [
    "a = [1,2,3,4]\n",
    "\n",
    "a.append(5)\n",
    "a.append(6)\n",
    "a.append('test')\n",
    "\n",
    "print(a)"
   ]
  },
  {
   "cell_type": "markdown",
   "metadata": {},
   "source": [
    "#### Accesar elementos individuales de una lista\n",
    "\n",
    "En muchos casos , necesitamos acceder a los elementos de una lista de manera individual, para esto usamos su posicion en la lista, llamamos a la posicion de un objeto en la lista el **\"indice\"** del elemento.\n",
    "\n",
    "Python es un \"zero index language\" lo cual significa que las posiciones empiezan en 0 y no en 1, esto significa que el primer objeto de la lista tendra indice 0, el segundo tendra indice 1 y asi sucesivamente, hasta llegar al ultimo elemento el cual siempre es el tamanio de la lista menos 1, o bien: \n",
    "\n",
    "len(< lista >) - 1\n",
    "\n",
    "<img src=\"https://files.realpython.com/media/t.eb0b38e642c5.png\">\n",
    "\n",
    "La sintaxis para acceder a cierto elemento de la lista es:\n",
    "\n",
    "**lista[indice]**"
   ]
  },
  {
   "cell_type": "code",
   "execution_count": 142,
   "metadata": {},
   "outputs": [
    {
     "name": "stdout",
     "output_type": "stream",
     "text": [
      "foo\n",
      "bar\n"
     ]
    }
   ],
   "source": [
    "lista = [\"foo\",\"bar\",\"baz\",\"qux\",\"quux\",\"corge\"]\n",
    "\n",
    "# guardar en variables la posición primera y segunda\n",
    "primero = lista[0]\n",
    "segundo = lista[1]\n",
    "\n",
    "# imprimir resultados\n",
    "print(primero)\n",
    "print(segundo)"
   ]
  },
  {
   "cell_type": "markdown",
   "metadata": {},
   "source": [
    "Modificar el valor en una posición especifíca"
   ]
  },
  {
   "cell_type": "code",
   "execution_count": 144,
   "metadata": {},
   "outputs": [
    {
     "name": "stdout",
     "output_type": "stream",
     "text": [
      "['NuevoValor', 'bar', 'baz', 'qux', 'quux', 'corge']\n"
     ]
    }
   ],
   "source": [
    "lista[0]  = \"NuevoValor\"\n",
    "\n",
    "print(lista)"
   ]
  },
  {
   "cell_type": "markdown",
   "metadata": {},
   "source": [
    "Si intentamos acceder con un indice no valido, obtendremos un error, por ejemplo si la lista solo tiene 6 elementos, el indice valido maximo es 5, si intentamos acceder la lista con un indice mayor a 5 obtendremos un error."
   ]
  },
  {
   "cell_type": "code",
   "execution_count": 272,
   "metadata": {},
   "outputs": [
    {
     "ename": "IndexError",
     "evalue": "list index out of range",
     "output_type": "error",
     "traceback": [
      "\u001b[1;31m---------------------------------------------------------------------------\u001b[0m",
      "\u001b[1;31mIndexError\u001b[0m                                Traceback (most recent call last)",
      "Cell \u001b[1;32mIn[272], line 1\u001b[0m\n\u001b[1;32m----> 1\u001b[0m lista[\u001b[38;5;241m6\u001b[39m]\n",
      "\u001b[1;31mIndexError\u001b[0m: list index out of range"
     ]
    }
   ],
   "source": [
    "lista[6]"
   ]
  },
  {
   "cell_type": "markdown",
   "metadata": {},
   "source": [
    "##### Indinces negativos\n",
    "Python nos permite acceder a los elementos de la lista utilizando indices negativos, el significado de esto es empezar a contar del ultimo elemento al primero, esto significa que el indice -1 hace referencia al ultimo elemento ,-2 hace referencia al penultimo y asi sucesivamente hasta el negativo del tamanio de la lista , es decir:\n",
    "\n",
    "-len(< lista >)\n",
    "\n",
    "Podemos ver entonces que los indices de una lista se encuentran en el intervalo\n",
    "\n",
    "[-len(< lista > ),len( < lista > ) -1]\n",
    "\n",
    "<img src=\"https://qph.fs.quoracdn.net/main-qimg-a380b1bc159589df5e0b9842e5b56b6d\">"
   ]
  },
  {
   "cell_type": "code",
   "execution_count": 1,
   "metadata": {},
   "outputs": [
    {
     "name": "stdout",
     "output_type": "stream",
     "text": [
      "corge\n",
      "quux\n",
      "foo\n",
      "foo\n"
     ]
    }
   ],
   "source": [
    "lista = [\"foo\",\"bar\",\"baz\",\"qux\",\"quux\",\"corge\"]\n",
    "\n",
    "print(lista[-1])\n",
    "print(lista[-2])\n",
    "\n",
    "print(lista[-len(lista)])\n",
    "print(lista[0])"
   ]
  },
  {
   "cell_type": "markdown",
   "metadata": {},
   "source": [
    "#### Accesar porciones/rebanadas de la lista a traves de \"slicing\"\n",
    "\n",
    "En muchos casos nos interesa acceder no a elementos individuales de la lista, si no a porciones de esta, los siguientes ejemplos nos muestran el razonamiento a usar para determinar si se necesita \"slicing\" para particionar una lista:\n",
    "\n",
    "* Se necesitan los primeros 5 elementos de una lista\n",
    "* Se necesitan los ultimos 3 elementos de una lista\n",
    "* Se necesita cambiar del segundo al cuarto elemento de una lista.\n",
    "\n",
    "En todos estos casos accedemos porciones, o rebanadas de la lista original en lugar de elementos individuales. \n",
    "\n",
    "La sintaxis para hacer esto es muy parecida a la usada para acceder elementos individuales, pero agregamos ahora el operador **\":\"** y lo usamos de la siguiente forma:\n",
    "\n",
    "< lista >[< inicio >: < fin >]\n",
    "\n",
    "donde:\n",
    "* < lista > : la lista original de la que deseamos acceder una sub-porcion\n",
    "* < inicio > : la posicion del inicio de la rebanada a obtener (inclusivo)\n",
    "* < fin > : la posicion final de la rebanada a obtener (exclusivo)\n",
    "\n",
    "Inicio y fin pueden ser cualquier expresion valida cuyo resultado sea un entero.\n",
    "\n",
    "Por ejemplo:"
   ]
  },
  {
   "cell_type": "code",
   "execution_count": 150,
   "metadata": {},
   "outputs": [
    {
     "data": {
      "text/plain": [
       "['hola', 'mundo', 'desde']"
      ]
     },
     "execution_count": 150,
     "metadata": {},
     "output_type": "execute_result"
    }
   ],
   "source": [
    "lista1 = [\"hola\",\"mundo\",\"desde\",\"el\",\"lenguaje\",\"python\"]\n",
    "\n",
    "lista1[0:3] #ya que \"fin\" es exclusivo el resultado contiene hasta el elemento previo a este"
   ]
  },
  {
   "cell_type": "markdown",
   "metadata": {},
   "source": [
    "El resultado de el slicing es una nueva lista que podemos asignar a una variable o usar en cualquier expresion donde una lista  sea valida"
   ]
  },
  {
   "cell_type": "code",
   "execution_count": 152,
   "metadata": {},
   "outputs": [
    {
     "name": "stdout",
     "output_type": "stream",
     "text": [
      "[2, 3, 4]\n"
     ]
    }
   ],
   "source": [
    "u =[1,2,3,4,5,6,7]\n",
    "sub_u = u[1:4]\n",
    "\n",
    "print(sub_u)"
   ]
  },
  {
   "cell_type": "markdown",
   "metadata": {},
   "source": [
    "Cambiar los valores usando slicing"
   ]
  },
  {
   "cell_type": "code",
   "execution_count": 154,
   "metadata": {},
   "outputs": [
    {
     "name": "stdout",
     "output_type": "stream",
     "text": [
      "[1, 2, 3.14, 'a', 5, 6, 7]\n"
     ]
    }
   ],
   "source": [
    "u[2:4] =  [3.14,'a']\n",
    "\n",
    "print(u)"
   ]
  },
  {
   "cell_type": "markdown",
   "metadata": {},
   "source": [
    "Tambien es posible hacer slicing con indices negativos"
   ]
  },
  {
   "cell_type": "code",
   "execution_count": 156,
   "metadata": {},
   "outputs": [
    {
     "name": "stdout",
     "output_type": "stream",
     "text": [
      "[3.14, 'a', 5, 6]\n",
      "[3.14, 'a', 5, 6]\n"
     ]
    }
   ],
   "source": [
    "print(u[2:6])\n",
    "print(u[2:-1])"
   ]
  },
  {
   "cell_type": "markdown",
   "metadata": {},
   "source": [
    "Podemos usar sintaxis resumida para casos donde inicio es 0, o fin es el ultimo elemento, esto nos sirve en los casos:\n",
    "* Acceder desde el primer elemento hasta el elemento n\n",
    "* Acceder desde el elemento n hasta el final\n",
    "\n",
    "Para esto simplemente omitimos el valor de inicio o de fin segun el caso:"
   ]
  },
  {
   "cell_type": "code",
   "execution_count": 158,
   "metadata": {},
   "outputs": [
    {
     "name": "stdout",
     "output_type": "stream",
     "text": [
      "[1, 2, 3.14, 'a', 5, 6, 7]\n"
     ]
    }
   ],
   "source": [
    "print(u)"
   ]
  },
  {
   "cell_type": "code",
   "execution_count": 159,
   "metadata": {},
   "outputs": [
    {
     "data": {
      "text/plain": [
       "[1, 2, 3.14, 'a']"
      ]
     },
     "execution_count": 159,
     "metadata": {},
     "output_type": "execute_result"
    }
   ],
   "source": [
    "u[:4]"
   ]
  },
  {
   "cell_type": "code",
   "execution_count": 160,
   "metadata": {},
   "outputs": [
    {
     "data": {
      "text/plain": [
       "[5, 6, 7]"
      ]
     },
     "execution_count": 160,
     "metadata": {},
     "output_type": "execute_result"
    }
   ],
   "source": [
    "u[4:]"
   ]
  },
  {
   "cell_type": "markdown",
   "metadata": {},
   "source": [
    "Es posible indicar los incrementos para el slicing, el default es 1 pero podemos especificar un incremento diferente:"
   ]
  },
  {
   "cell_type": "code",
   "execution_count": 162,
   "metadata": {},
   "outputs": [
    {
     "data": {
      "text/plain": [
       "[1, 3.14, 5, 7]"
      ]
     },
     "execution_count": 162,
     "metadata": {},
     "output_type": "execute_result"
    }
   ],
   "source": [
    "u[0::2]"
   ]
  },
  {
   "cell_type": "code",
   "execution_count": 163,
   "metadata": {},
   "outputs": [
    {
     "data": {
      "text/plain": [
       "[7, 6, 5, 'a', 3.14, 2, 1]"
      ]
     },
     "execution_count": 163,
     "metadata": {},
     "output_type": "execute_result"
    }
   ],
   "source": [
    "u[-1::-1]"
   ]
  },
  {
   "cell_type": "markdown",
   "metadata": {},
   "source": [
    "#### Count e Index\n",
    "\n",
    "Podemos aplicar 2 funciones especiales sobre las listas:\n",
    "\n",
    "* < lista >.count(< valor >) indica cuantas veces encontramos en la lista el < valor > buscado\n",
    "* < lista >.index(< valor >) indica la posicion(empezando en 0)  del valor buscado ,si aparece mas de una vez, se muestra el primer indice"
   ]
  },
  {
   "cell_type": "code",
   "execution_count": 165,
   "metadata": {},
   "outputs": [
    {
     "name": "stdout",
     "output_type": "stream",
     "text": [
      "3\n",
      "2\n"
     ]
    }
   ],
   "source": [
    "lista = [\"a\",\"b\",\"c\",\"e\",\"f\",\"g\",\"c\",2,3,4,5,\"c\"]\n",
    "\n",
    "print(lista.count(\"c\"))\n",
    "print(lista.index(\"c\"))"
   ]
  },
  {
   "cell_type": "code",
   "execution_count": null,
   "metadata": {},
   "outputs": [],
   "source": []
  },
  {
   "cell_type": "markdown",
   "metadata": {},
   "source": [
    "#### Operadores de membresia/membership\n",
    "\n",
    "Estos operadores tienen sentido en el contexto de colecciones,secuencias, contenedores o estructuras de datos que son parte de los operadores de Python.\n",
    "\n",
    "Basicamente nos sirven para ver si algun objeto (ya sea literal o variable) es miembro de una coleccion mas grande de objetos, por ejemplo una lista.\n",
    "\n",
    "Python posee 2 operadores de este tipo:\n",
    "\n",
    "* in : El resultado es True si un objeto buscado se encuentra en la coleccion en la cual lo buscamos\n",
    "* not in : El resultado es True si el objeto buscado no se encuentra en la coleccion en la cual buscamos\n",
    "\n",
    "**Ejemplo** \n",
    "\n",
    "Tenemos un programa que posee una lista de usuarios identificados por un numero y \n",
    "se desea determinar si cierto usuario pertenece a esta lista de usuarios, un caso de uso podria ser buscar \n",
    "el carnet de un estudiante en la lista de estudiantes asignados a cierto curso"
   ]
  },
  {
   "cell_type": "code",
   "execution_count": 284,
   "metadata": {},
   "outputs": [
    {
     "name": "stdout",
     "output_type": "stream",
     "text": [
      "El estudiante  111156  ¿fue encontrado? True\n"
     ]
    }
   ],
   "source": [
    "lista_carnets = [1111,2222,3333]\n",
    "estudiante_buscado = 111156\n",
    "\n",
    "estudiante_encontrado = estudiante_buscado  in lista_carnets\n",
    "\n",
    "print(\"El estudiante \",estudiante_buscado, \" ¿fue encontrado?\",estudiante_encontrado)"
   ]
  },
  {
   "cell_type": "markdown",
   "metadata": {},
   "source": [
    "En el ejemplo anterior, prueba ingresar un valor dentro de la lista de carnets y observa el resultado :) "
   ]
  },
  {
   "cell_type": "markdown",
   "metadata": {},
   "source": [
    "## Tuplas (tuple)\n",
    "\n",
    "Objeto contenedor muy similar a las listas y por lo tanto muchas operaciones con listas son también  válidas con las tuplas, sintácticamente  difieren en que las tupas usan parentésis  en lugar de corchetes. Conceptualmente la diferencia mas grande es que las tuplas son \"inmutables\" , por lo cual no podemos actualizar los objetos que contiene o agregar nuevos una vez esta ha sido creada.\n",
    "\n",
    "* Ya que las tuplas no pueden ser modificadas, el acceso a la información en ella es ligeramente más rapido.\n",
    "* Son usadas muchas veces como llaves de diccionarios(a discutir pronto), las listas no pueden ser usadas para este propósito.\n",
    "* Es común tener listas de tuplas donde cada tupla representa un objeto compuesto por muchos atributos o características:\n",
    "    * Por ejemplo una lista de alumnos podría usar \"tuplas\" para representar a cada alumno y cada alumno podría tener nombre y número de carnet en una tupla. "
   ]
  },
  {
   "cell_type": "code",
   "execution_count": 170,
   "metadata": {},
   "outputs": [
    {
     "data": {
      "text/plain": [
       "(1, 2, 3, 4)"
      ]
     },
     "execution_count": 170,
     "metadata": {},
     "output_type": "execute_result"
    }
   ],
   "source": [
    "(1,2,3,4)"
   ]
  },
  {
   "cell_type": "code",
   "execution_count": 290,
   "metadata": {},
   "outputs": [
    {
     "data": {
      "text/plain": [
       "tuple"
      ]
     },
     "execution_count": 290,
     "metadata": {},
     "output_type": "execute_result"
    }
   ],
   "source": [
    "type((1,2,3,4))"
   ]
  },
  {
   "cell_type": "code",
   "execution_count": 298,
   "metadata": {},
   "outputs": [],
   "source": [
    "a = (1,2,3,4)\n",
    "\n",
    "#a[0] = 2"
   ]
  },
  {
   "cell_type": "code",
   "execution_count": 302,
   "metadata": {},
   "outputs": [],
   "source": [
    "b = (2,3,4,\"g\")\n",
    "\n",
    "#b.append(2)"
   ]
  },
  {
   "cell_type": "markdown",
   "metadata": {},
   "source": [
    "Tambien podemos replicar tuplas o bien crear una combinando 2 existentes\n",
    "\n",
    "**Nota:**recordemos que las tuplas son inmutables, el resultado de estas operaciones es una nueva tupla, no una modificación de la original."
   ]
  },
  {
   "cell_type": "code",
   "execution_count": 304,
   "metadata": {},
   "outputs": [
    {
     "data": {
      "text/plain": [
       "(2, 3, 4, 'g', 2, 3, 4, 'g')"
      ]
     },
     "execution_count": 304,
     "metadata": {},
     "output_type": "execute_result"
    }
   ],
   "source": [
    "b*2"
   ]
  },
  {
   "cell_type": "code",
   "execution_count": 306,
   "metadata": {},
   "outputs": [
    {
     "data": {
      "text/plain": [
       "(1, 2, 3, 4, 2, 3, 4, 'g')"
      ]
     },
     "execution_count": 306,
     "metadata": {},
     "output_type": "execute_result"
    }
   ],
   "source": [
    "a + b"
   ]
  },
  {
   "cell_type": "markdown",
   "metadata": {},
   "source": [
    "Podemos crear una lista a partir de una tupla usando la función list()"
   ]
  },
  {
   "cell_type": "code",
   "execution_count": 308,
   "metadata": {},
   "outputs": [
    {
     "name": "stdout",
     "output_type": "stream",
     "text": [
      "[1, 2, 3, 4]\n"
     ]
    }
   ],
   "source": [
    "lista_a = list(a)\n",
    "\n",
    "print(lista_a)"
   ]
  },
  {
   "cell_type": "markdown",
   "metadata": {},
   "source": [
    "O una tupla a partir de una lista"
   ]
  },
  {
   "cell_type": "code",
   "execution_count": 180,
   "metadata": {},
   "outputs": [
    {
     "name": "stdout",
     "output_type": "stream",
     "text": [
      "(1, 2, 3, 4)\n"
     ]
    }
   ],
   "source": [
    "tupla_a = tuple(lista_a)\n",
    "\n",
    "print(tupla_a)"
   ]
  },
  {
   "cell_type": "markdown",
   "metadata": {},
   "source": [
    "Una lista de tuplas donde cada tupla representa un objeto con distintas características."
   ]
  },
  {
   "cell_type": "code",
   "execution_count": 3,
   "metadata": {},
   "outputs": [
    {
     "name": "stdout",
     "output_type": "stream",
     "text": [
      "(12223, 'Daniel Rodriguez')\n",
      "(7369, 'Carlos Diaz')\n"
     ]
    }
   ],
   "source": [
    "alumnos = [(1111,\"Juan Perez\"),(12223,\"Daniel Rodriguez\"),(2344,\"Jason Becker\"),(7369,\"Carlos Diaz\")]\n",
    "alumno1 = alumnos[1]\n",
    "alumno3 = alumnos[3]\n",
    "print(alumno1)\n",
    "print(alumno3)\n"
   ]
  },
  {
   "cell_type": "markdown",
   "metadata": {},
   "source": [
    "También contamos con count(valor) e index(valor) en tuplas"
   ]
  },
  {
   "cell_type": "code",
   "execution_count": 4,
   "metadata": {},
   "outputs": [
    {
     "name": "stdout",
     "output_type": "stream",
     "text": [
      "1\n",
      "0\n"
     ]
    }
   ],
   "source": [
    "print(alumno1.count(12223))\n",
    "print(alumno1.index(12223))\n"
   ]
  },
  {
   "cell_type": "markdown",
   "metadata": {},
   "source": [
    "#### Operadores de membresia"
   ]
  },
  {
   "cell_type": "code",
   "execution_count": 5,
   "metadata": {},
   "outputs": [
    {
     "data": {
      "text/plain": [
       "True"
      ]
     },
     "execution_count": 5,
     "metadata": {},
     "output_type": "execute_result"
    }
   ],
   "source": [
    "12223 in alumno1\n",
    "7369 in alumno3"
   ]
  },
  {
   "cell_type": "code",
   "execution_count": 187,
   "metadata": {},
   "outputs": [
    {
     "data": {
      "text/plain": [
       "False"
      ]
     },
     "execution_count": 187,
     "metadata": {},
     "output_type": "execute_result"
    }
   ],
   "source": [
    "\"Hola mundo\" in alumno1"
   ]
  },
  {
   "cell_type": "code",
   "execution_count": 188,
   "metadata": {},
   "outputs": [
    {
     "data": {
      "text/plain": [
       "True"
      ]
     },
     "execution_count": 188,
     "metadata": {},
     "output_type": "execute_result"
    }
   ],
   "source": [
    "(2344,\"Jason Becker\") in alumnos #buscar una tupla en la lista de  tuplas"
   ]
  },
  {
   "cell_type": "code",
   "execution_count": 189,
   "metadata": {},
   "outputs": [
    {
     "data": {
      "text/plain": [
       "False"
      ]
     },
     "execution_count": 189,
     "metadata": {},
     "output_type": "execute_result"
    }
   ],
   "source": [
    "(23445,\"Myrna Castillo\") in alumnos #buscar una tupla en la lista de  tuplas"
   ]
  },
  {
   "cell_type": "markdown",
   "metadata": {},
   "source": [
    "#### Indexing y slicing\n",
    "\n",
    "Para acceder a elementos de una tupla , aplica todo lo que vimos en listas respecto a indexing(1 elemento) y slicing(1 porcion), el resultado del slicing es una nueva tupla conteniendo la \"rebanada\" de la original"
   ]
  },
  {
   "cell_type": "code",
   "execution_count": 191,
   "metadata": {},
   "outputs": [
    {
     "name": "stdout",
     "output_type": "stream",
     "text": [
      "4\n",
      "7\n",
      "6\n",
      "(4, 'g', 5)\n",
      "(4, 'g', 5)\n"
     ]
    }
   ],
   "source": [
    "tupla = (2,3,4,\"g\",5,6,7)\n",
    "\n",
    "#indexing\n",
    "print(tupla[2])\n",
    "print(tupla[-1])\n",
    "print(tupla[-2])\n",
    "\n",
    "#slicing\n",
    "print(tupla[2:5])\n",
    "print(tupla[2:-2])"
   ]
  },
  {
   "cell_type": "markdown",
   "metadata": {},
   "source": [
    "Fuchas funciones(tema aun por estudiar) pueden devolver mas de un objeto, esto lo hacen a traves de tuplas:"
   ]
  },
  {
   "cell_type": "code",
   "execution_count": 312,
   "metadata": {},
   "outputs": [],
   "source": [
    "def max_min(lista):\n",
    "    maximo = max(lista)\n",
    "    minimo = min(lista)\n",
    "    \n",
    "    return maximo,minimo"
   ]
  },
  {
   "cell_type": "code",
   "execution_count": 194,
   "metadata": {},
   "outputs": [
    {
     "data": {
      "text/plain": [
       "(100, 2)"
      ]
     },
     "execution_count": 194,
     "metadata": {},
     "output_type": "execute_result"
    }
   ],
   "source": [
    "max_min([2,3,7,2,100])"
   ]
  },
  {
   "cell_type": "code",
   "execution_count": 195,
   "metadata": {},
   "outputs": [
    {
     "data": {
      "text/plain": [
       "tuple"
      ]
     },
     "execution_count": 195,
     "metadata": {},
     "output_type": "execute_result"
    }
   ],
   "source": [
    "type(max_min([2,3,7,2,100]))"
   ]
  },
  {
   "cell_type": "code",
   "execution_count": 196,
   "metadata": {},
   "outputs": [
    {
     "name": "stdout",
     "output_type": "stream",
     "text": [
      "100 2\n"
     ]
    }
   ],
   "source": [
    "maximo,minimo = max_min([2,3,7,2,100])\n",
    "\n",
    "print(maximo,minimo)"
   ]
  },
  {
   "cell_type": "markdown",
   "metadata": {},
   "source": [
    "#### Funciones utiles disponibles para listas y tuplas\n",
    "\n",
    "Existen diversas funciones disponibles por default en Python que son muy útiles para trabajar  con listas y tuplas, ya hemos visto algunas de estas durante el curso."
   ]
  },
  {
   "cell_type": "code",
   "execution_count": 198,
   "metadata": {},
   "outputs": [],
   "source": [
    "lista = [0,1,2,3,4,5]\n",
    "tupla = (1,2,3,4,5)\n"
   ]
  },
  {
   "cell_type": "markdown",
   "metadata": {},
   "source": [
    "**max y min**: funciones que devuelven ya sea el valor maximo, o el mínimo contenido en una lista o tupla"
   ]
  },
  {
   "cell_type": "code",
   "execution_count": 200,
   "metadata": {},
   "outputs": [
    {
     "name": "stdout",
     "output_type": "stream",
     "text": [
      "False\n",
      "True\n"
     ]
    }
   ],
   "source": [
    "print(all(lista))\n",
    "print(all(tupla))"
   ]
  },
  {
   "cell_type": "code",
   "execution_count": 201,
   "metadata": {},
   "outputs": [
    {
     "name": "stdout",
     "output_type": "stream",
     "text": [
      "5\n",
      "5\n",
      "0\n",
      "1\n"
     ]
    }
   ],
   "source": [
    "print(max(lista))\n",
    "print(max(tupla))\n",
    "\n",
    "print(min(lista))\n",
    "print(min(tupla))"
   ]
  },
  {
   "cell_type": "markdown",
   "metadata": {},
   "source": [
    "**sorted**: función que devuelve una lista(independiente de si se aplica sobre una nueva lista o una tupla)  que contiene los elementos de la colección original ordenados."
   ]
  },
  {
   "cell_type": "code",
   "execution_count": 203,
   "metadata": {},
   "outputs": [
    {
     "name": "stdout",
     "output_type": "stream",
     "text": [
      "[0, 1, 2, 3, 4, 5]\n",
      "[1, 2, 3, 4, 5]\n"
     ]
    }
   ],
   "source": [
    "print(sorted(lista))\n",
    "print(sorted(tupla))"
   ]
  },
  {
   "cell_type": "markdown",
   "metadata": {},
   "source": [
    "**sum**: función que devuelve un valor numerico con la suma de todos los elementos de una lista."
   ]
  },
  {
   "cell_type": "code",
   "execution_count": 205,
   "metadata": {},
   "outputs": [
    {
     "name": "stdout",
     "output_type": "stream",
     "text": [
      "15\n",
      "15\n"
     ]
    }
   ],
   "source": [
    "print(sum(lista))\n",
    "print(sum(tupla))"
   ]
  },
  {
   "cell_type": "code",
   "execution_count": 206,
   "metadata": {},
   "outputs": [],
   "source": [
    "# las listas o tuplas pueden guardar cualqueir tipo de objeto, pero resultara en error si se aplican funciones sobre \n",
    "# objetos no compatibles\n",
    "# print(sum([1,2,3,\"a\"]))"
   ]
  },
  {
   "cell_type": "markdown",
   "metadata": {},
   "source": [
    "## Ciclos for con  listas y tuplas\n",
    "\n",
    "Tal como mencionamos en la sección de ciclos, en Python los ciclos \"for\" tienen una relación directa con las colecciones(aveces llamadas iterables) y de manera natural podemos utilizar un ciclo \"for\" para iterar sobre los elementos de una lista o tupla y realizar cualquier acción elemento por elemento utilizando:\n",
    "\n",
    "for < iterador > in < coleccion >:\n",
    "\n",
    "\n",
    "       < bloque >\n",
    "   \n",
    "\n",
    "En cada iteración del ciclo for < iterador > almacenara un valor en la colección."
   ]
  },
  {
   "cell_type": "code",
   "execution_count": 208,
   "metadata": {},
   "outputs": [
    {
     "name": "stdout",
     "output_type": "stream",
     "text": [
      "1\n",
      "2\n",
      "3\n",
      "4\n",
      "5\n",
      "6\n"
     ]
    }
   ],
   "source": [
    "lista = [0,1,2,3,4,5]\n",
    "\n",
    "for elemento in lista:\n",
    "    print(elemento + 1)"
   ]
  },
  {
   "cell_type": "code",
   "execution_count": 209,
   "metadata": {},
   "outputs": [
    {
     "name": "stdout",
     "output_type": "stream",
     "text": [
      "2\n",
      "4\n",
      "6\n",
      "8\n",
      "10\n"
     ]
    }
   ],
   "source": [
    "tupla = (1,2,3,4,5)\n",
    "\n",
    "for elemento in tupla:\n",
    "    print(elemento*2)"
   ]
  },
  {
   "cell_type": "markdown",
   "metadata": {},
   "source": [
    "El bloque del for puede tener muchas sentencias."
   ]
  },
  {
   "cell_type": "code",
   "execution_count": 211,
   "metadata": {},
   "outputs": [
    {
     "name": "stdout",
     "output_type": "stream",
     "text": [
      "Al elevar  2  al cuadrado obtenemos el numero par  4\n",
      "Al elevar  4  al cuadrado obtenemos el numero par  16\n",
      "Al elevar  6  al cuadrado obtenemos el numero par  36\n",
      "Al elevar  8  al cuadrado obtenemos el numero par  64\n",
      "Al elevar  10  al cuadrado obtenemos el numero par  100\n"
     ]
    }
   ],
   "source": [
    "tupla = (1,2,3,4,5,6,7,8,9,10,11)\n",
    "\n",
    "for elemento in tupla:\n",
    "    elemento_cuadrado = elemento**2\n",
    "    \n",
    "    if elemento_cuadrado%2 == 0:  #si el resultado de elevar elemento al cuadrado es par\n",
    "        print(\"Al elevar \",elemento,\" al cuadrado obtenemos el numero par \",elemento_cuadrado)"
   ]
  }
 ],
 "metadata": {
  "kernelspec": {
   "display_name": "Python 3 (ipykernel)",
   "language": "python",
   "name": "python3"
  },
  "language_info": {
   "codemirror_mode": {
    "name": "ipython",
    "version": 3
   },
   "file_extension": ".py",
   "mimetype": "text/x-python",
   "name": "python",
   "nbconvert_exporter": "python",
   "pygments_lexer": "ipython3",
   "version": "3.12.4"
  }
 },
 "nbformat": 4,
 "nbformat_minor": 4
}
