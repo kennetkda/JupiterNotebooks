{
 "cells": [
  {
   "cell_type": "markdown",
   "id": "860d6b00-3abe-4d4b-8259-1affecf3c166",
   "metadata": {},
   "source": [
    "### 1. Escribe un programa que solicite al usuario una lista de 5 números y luego calcule el promedio de esos números.\n"
   ]
  },
  {
   "cell_type": "code",
   "execution_count": 9,
   "id": "1f19d841-b562-4684-b18a-68ba80546045",
   "metadata": {},
   "outputs": [
    {
     "name": "stdin",
     "output_type": "stream",
     "text": [
      "Ingrese numero 1:  1\n",
      "Ingrese numero 2:  1\n",
      "Ingrese numero 3:  1\n",
      "Ingrese numero 4:  1\n",
      "Ingrese numero 5:  1\n"
     ]
    },
    {
     "name": "stdout",
     "output_type": "stream",
     "text": [
      "el promedio es: 1.0\n"
     ]
    }
   ],
   "source": [
    "promedio=0\n",
    "listaNumeros=[0,0,0,0,0]\n",
    "for i in range(5):\n",
    "    listaNumeros[i] = int(input(\"Ingrese numero \" + str(i+1) +  \": \"))\n",
    "\n",
    "for x in range(len(listaNumeros)):\n",
    "    promedio=promedio+listaNumeros[x]\n",
    "\n",
    "promedio=promedio/5\n",
    "print(\"el promedio es: \" + str(promedio))"
   ]
  },
  {
   "cell_type": "markdown",
   "id": "67bdd6ae-b61c-4cca-8e69-79d92e9f3837",
   "metadata": {},
   "source": [
    "## 2. Escribe un programa que le pida al usuario un número y determine si es positivo, negativo o cero.\n"
   ]
  },
  {
   "cell_type": "code",
   "execution_count": 13,
   "id": "0d82f4b8-56b9-4721-a45e-4d53ef9d37bf",
   "metadata": {},
   "outputs": [
    {
     "name": "stdin",
     "output_type": "stream",
     "text": [
      "Ingrese numero  0\n"
     ]
    },
    {
     "name": "stdout",
     "output_type": "stream",
     "text": [
      "numero es cero\n",
      "numero es positivo\n"
     ]
    }
   ],
   "source": [
    "numero=int(input(\"Ingrese numero \"))\n",
    "if (numero == 0):\n",
    "    print(\"numero es cero\")\n",
    "if (numero < 0): \n",
    "    print(\"numero es menor de cero\")\n",
    "if (numero >= 0): \n",
    "    print(\"numero es positivo\")"
   ]
  },
  {
   "cell_type": "markdown",
   "id": "652b1c04-1cd5-497b-b8d0-e5b9652ab457",
   "metadata": {},
   "source": [
    "## 3. Escribe un programa que imprima los números del 1 al 10 utilizando un ciclo for.\n"
   ]
  },
  {
   "cell_type": "code",
   "execution_count": 17,
   "id": "68d31039-a56a-4a13-87f1-e7252332d550",
   "metadata": {},
   "outputs": [
    {
     "name": "stdout",
     "output_type": "stream",
     "text": [
      "1\n",
      "2\n",
      "3\n",
      "4\n",
      "5\n",
      "6\n",
      "7\n",
      "8\n",
      "9\n",
      "10\n"
     ]
    }
   ],
   "source": [
    "for i in range(10):\n",
    "    print(i+1)"
   ]
  },
  {
   "cell_type": "markdown",
   "id": "3eb39014-01e5-4b46-92d4-f39388057d3a",
   "metadata": {},
   "source": [
    "## 4. Crea un programa que permita almacenar las notas de 3 estudiantes en diferentes materias en un diccionario. Luego, permite calcular el promedio de cada estudiante y mostrar quién tiene el mejor promedio."
   ]
  },
  {
   "cell_type": "code",
   "execution_count": 18,
   "id": "c4b5a6c7-fc8a-4e72-a7dc-d50b35c9439c",
   "metadata": {},
   "outputs": [
    {
     "name": "stdin",
     "output_type": "stream",
     "text": [
      "Ingrese el nombre del estudiante 1:  Carlos\n",
      "Ingrese la nota de Carlos en Programación:  15\n",
      "Ingrese la nota de Carlos en Ciencia Datos:  15\n",
      "Ingrese la nota de Carlos en Matemáticas:  15\n",
      "Ingrese el nombre del estudiante 2:  Pedro\n",
      "Ingrese la nota de Pedro en Programación:  20\n",
      "Ingrese la nota de Pedro en Ciencia Datos:  20\n",
      "Ingrese la nota de Pedro en Matemáticas:  20\n",
      "Ingrese el nombre del estudiante 3:  Alberto\n",
      "Ingrese la nota de Alberto en Programación:  60\n",
      "Ingrese la nota de Alberto en Ciencia Datos:  30\n",
      "Ingrese la nota de Alberto en Matemáticas:  90\n"
     ]
    },
    {
     "name": "stdout",
     "output_type": "stream",
     "text": [
      "\n",
      "El estudiante con el mejor promedio es: Alberto con un promedio de 60.00\n"
     ]
    }
   ],
   "source": [
    "def calcular_promedio(notas):\n",
    "    return sum(notas) / len(notas)\n",
    "\n",
    "notas_estudiantes = {}\n",
    "\n",
    "for i in range(3):\n",
    "    nombre = input(f\"Ingrese el nombre del estudiante {i + 1}: \")\n",
    "    notas = []\n",
    "    for materia in ['Programación', 'Ciencia Datos', 'Matemáticas']:\n",
    "        nota = float(input(f\"Ingrese la nota de {nombre} en {materia}: \"))\n",
    "        notas.append(nota)\n",
    "    notas_estudiantes[nombre] = notas\n",
    "\n",
    "promedios = {}\n",
    "for estudiante, notas in notas_estudiantes.items():\n",
    "    promedios[estudiante] = calcular_promedio(notas)\n",
    "\n",
    "# Determinar quién tiene el mejor promedio\n",
    "mejor_estudiante = max(promedios, key=promedios.get)\n",
    "print(f\"\\nEl estudiante con el mejor promedio es: {mejor_estudiante} con un promedio de {promedios[mejor_estudiante]:.2f}\")"
   ]
  },
  {
   "cell_type": "code",
   "execution_count": null,
   "id": "f1bbfef9-b590-4095-96c3-eddca08d71d2",
   "metadata": {},
   "outputs": [],
   "source": []
  }
 ],
 "metadata": {
  "kernelspec": {
   "display_name": "Python 3 (ipykernel)",
   "language": "python",
   "name": "python3"
  },
  "language_info": {
   "codemirror_mode": {
    "name": "ipython",
    "version": 3
   },
   "file_extension": ".py",
   "mimetype": "text/x-python",
   "name": "python",
   "nbconvert_exporter": "python",
   "pygments_lexer": "ipython3",
   "version": "3.12.4"
  }
 },
 "nbformat": 4,
 "nbformat_minor": 5
}
