{
 "cells": [
  {
   "cell_type": "markdown",
   "id": "17a4a106-232f-41c8-94c2-4b09c46596d8",
   "metadata": {},
   "source": [
    "# Ciclos de Control \n",
    "## Descripción\n",
    "### En este notebook podemos encontrar ejemplos de variables , impresion de variables\n"
   ]
  },
  {
   "cell_type": "markdown",
   "id": "6e6bd7a4-37e2-40e2-ad21-a2c6d7d9266b",
   "metadata": {},
   "source": [
    "Ejemplo de variables"
   ]
  },
  {
   "cell_type": "code",
   "execution_count": 1,
   "id": "69d4236a-f631-4010-87ab-ca4298c97c8c",
   "metadata": {},
   "outputs": [],
   "source": [
    "nombre  = \"Carlos Diaz\"\n",
    "edad = 45\n",
    "nacionalidad = \"Guatemalteco\""
   ]
  },
  {
   "cell_type": "code",
   "execution_count": 7,
   "id": "ce36781f-f170-43aa-9ea3-d3c0ae491bbe",
   "metadata": {},
   "outputs": [
    {
     "name": "stdout",
     "output_type": "stream",
     "text": [
      "\n",
      "mi nombre es:  Carlos Diaz \n",
      "mi edad:  45 \n",
      "mi nacionalidad es:  Guatemalteco\n"
     ]
    }
   ],
   "source": [
    "print(\"\\nmi nombre es: \",nombre,\"\\nmi edad: \",edad,\"\\nmi nacionalidad es: \",nacionalidad)\n"
   ]
  },
  {
   "cell_type": "markdown",
   "id": "43d4ba9c-edfe-43d1-9719-0609cce9f2e1",
   "metadata": {},
   "source": [
    "# Ejemplos de ciclos de control, instrucción IF "
   ]
  },
  {
   "cell_type": "code",
   "execution_count": 8,
   "id": "cfd84240-1ffb-42d3-98d6-69a6851a1a7d",
   "metadata": {},
   "outputs": [
    {
     "name": "stdout",
     "output_type": "stream",
     "text": [
      "Eres un adulto.\n"
     ]
    }
   ],
   "source": [
    "if edad < 13:\n",
    "    print(\"Eres un niño.\")\n",
    "elif 13 <= edad < 18:\n",
    "    print(\"Eres un adolescente.\")\n",
    "else:\n",
    "    print(\"Eres un adulto.\")"
   ]
  },
  {
   "cell_type": "code",
   "execution_count": 12,
   "id": "34fe9a57-2d27-4e20-95aa-246027727117",
   "metadata": {},
   "outputs": [
    {
     "name": "stdout",
     "output_type": "stream",
     "text": [
      "verdadero\n"
     ]
    }
   ],
   "source": [
    "if 5 != 8:\n",
    "   print(\"verdadero\")\n",
    "else:\n",
    "   print(\"falso\")"
   ]
  },
  {
   "cell_type": "raw",
   "id": "14628160-ff5a-4a8e-80c2-cdf3c76b7692",
   "metadata": {},
   "source": [
    "Por lo tanto, tenemos operadores logicos como: \n",
    "\n",
    "== Comparar\n",
    ">  mayor que\n",
    "<  menor que\n",
    ">= mayor o igual que\n",
    "<= menor o igual que\n",
    "\n"
   ]
  },
  {
   "cell_type": "markdown",
   "id": "0acd33a2-7b4d-4563-a0c8-279cd93e6618",
   "metadata": {},
   "source": [
    "# Ciclos\n"
   ]
  },
  {
   "cell_type": "code",
   "execution_count": 14,
   "id": "8edc7bc8-c2ed-42d2-8b5a-7ed16bbe58ed",
   "metadata": {},
   "outputs": [
    {
     "name": "stdout",
     "output_type": "stream",
     "text": [
      "0\n",
      "1\n",
      "2\n",
      "3\n",
      "4\n"
     ]
    }
   ],
   "source": [
    "for i in range(5):\n",
    "    print(i)"
   ]
  },
  {
   "cell_type": "code",
   "execution_count": 16,
   "id": "27ac1e31-f39a-45fe-9e36-12566a5f4043",
   "metadata": {},
   "outputs": [
    {
     "name": "stdout",
     "output_type": "stream",
     "text": [
      "0\n",
      "1\n",
      "2\n",
      "3\n",
      "4\n",
      "5\n",
      "6\n",
      "7\n",
      "8\n",
      "9\n",
      "10\n",
      "11\n",
      "12\n",
      "13\n",
      "14\n"
     ]
    }
   ],
   "source": [
    "contador = 0\n",
    "while contador < 15:\n",
    "    print(contador)\n",
    "    contador += 1"
   ]
  },
  {
   "cell_type": "code",
   "execution_count": null,
   "id": "f7d2a17e-9461-4e80-b204-2e84c169831b",
   "metadata": {},
   "outputs": [],
   "source": []
  }
 ],
 "metadata": {
  "kernelspec": {
   "display_name": "Python 3 (ipykernel)",
   "language": "python",
   "name": "python3"
  },
  "language_info": {
   "codemirror_mode": {
    "name": "ipython",
    "version": 3
   },
   "file_extension": ".py",
   "mimetype": "text/x-python",
   "name": "python",
   "nbconvert_exporter": "python",
   "pygments_lexer": "ipython3",
   "version": "3.12.4"
  }
 },
 "nbformat": 4,
 "nbformat_minor": 5
}
